{
 "cells": [
  {
   "cell_type": "markdown",
   "metadata": {},
   "source": [
    "# S02 T04: Pràctica amb programació numèrica"
   ]
  },
  {
   "cell_type": "markdown",
   "metadata": {},
   "source": [
    "### Exercici 1\n",
    "Crea una funció que donat un Array d’una dimensió, et faci un resum estadístic bàsic de les dades. Si detecta que l’array té més d’una dimensió, ha de mostrar un missatge d’error."
   ]
  },
  {
   "cell_type": "code",
   "execution_count": 5,
   "metadata": {},
   "outputs": [
    {
     "name": "stdout",
     "output_type": "stream",
     "text": [
      "Escriu un array de números: 6 9 14 24 2 8 9\n",
      "Mitjana 9.0\n",
      "Mitja aritmètica 10.285714285714286\n",
      "Moda 9\n",
      "Desviació estandar 6.518419740885619\n"
     ]
    }
   ],
   "source": [
    "import numpy as np\n",
    "import statistics as stat\n",
    "def resumArray(a):\n",
    "    print(\"Mitjana\",np.median(a) )\n",
    "    print(\"Mitja aritmètica\",np.mean(a))\n",
    "    print(\"Moda\",stat.mode(a) )\n",
    "    print(\"Desviació estandar\",np.std(a))\n",
    "\n",
    "x = input(\"Escriu un array de números: \")\n",
    "b = x.split()\n",
    "res = [int(i) for i in b]\n",
    "c = np.array(res)\n",
    "resumArray(c)\n"
   ]
  },
  {
   "cell_type": "markdown",
   "metadata": {},
   "source": [
    "### Exercici 2\n",
    "Crea una funció que et generi un quadrat NxN de nombres aleatoris entre el 0 i el 100."
   ]
  },
  {
   "cell_type": "code",
   "execution_count": 46,
   "metadata": {},
   "outputs": [
    {
     "name": "stdout",
     "output_type": "stream",
     "text": [
      "Escriu el tamany de la matriu: 4\n",
      "[[43 78 92 97]\n",
      " [ 8 36 62 67]\n",
      " [ 1 87 76 31]\n",
      " [28 61  3 77]]\n"
     ]
    }
   ],
   "source": [
    "def randomMatrix(x):\n",
    "    a = np.random.randint(100, size=(x,x))\n",
    "    print(a)\n",
    "\n",
    "x = input(\"Escriu el tamany de la matriu: \")\n",
    "b = int(x)\n",
    "randomMatrix(b)"
   ]
  },
  {
   "cell_type": "markdown",
   "metadata": {},
   "source": [
    "### Exercici 3\n",
    "Crea una funció que donada una taula de dues dimensions, et calculi els totals per fila i els totals per columna."
   ]
  },
  {
   "cell_type": "code",
   "execution_count": 125,
   "metadata": {},
   "outputs": [
    {
     "name": "stdout",
     "output_type": "stream",
     "text": [
      "suma fila  4 :  55\n",
      "suma columna  4 :  21\n",
      "suma fila  4 :  109\n",
      "suma columna  4 :  66\n",
      "suma fila  4 :  143\n",
      "suma columna  4 :  145\n",
      "suma fila  4 :  196\n",
      "suma columna  4 :  191\n",
      "suma fila  4 :  237\n",
      "suma columna  4 :  237\n"
     ]
    }
   ],
   "source": [
    "a = np.array([\n",
    "    [1, 25, 7, 13, 9],\n",
    "    [5, 8, 27, 4, 10],\n",
    "    [2, 5, 6, 14, 7],\n",
    "    [4, 5, 23, 12, 9],\n",
    "    [9, 2, 16, 3, 11]])\n",
    "i = 0\n",
    "s = 0\n",
    "r = 0\n",
    "for i in range(len(a)):\n",
    "    for j in range(len(a[i])):\n",
    "            s += a[i][j]\n",
    "            r += a[j][i]\n",
    "    print(\"suma fila \",j,\": \", s)\n",
    "    print(\"suma columna \",j,\": \", r)\n",
    "        \n",
    "\n",
    "\n",
    "\n",
    "#x = input(\"Escriu el tamany de la matriu: \")\n",
    "#b = int(x) "
   ]
  },
  {
   "cell_type": "markdown",
   "metadata": {},
   "source": [
    "### Exercici 4\n",
    "Implementa manualment una funció que calculi el coeficient de correlació. Informa’t-en sobre els seus usos i interpretació."
   ]
  },
  {
   "cell_type": "code",
   "execution_count": 59,
   "metadata": {},
   "outputs": [
    {
     "name": "stdout",
     "output_type": "stream",
     "text": [
      "[[1.         0.37692803]\n",
      " [0.37692803 1.        ]]\n",
      "[[ 1.         -0.35430044]\n",
      " [-0.35430044  1.        ]]\n",
      "[[1.         0.49199468]\n",
      " [0.49199468 1.        ]]\n",
      "[[1.         0.48151166]\n",
      " [0.48151166 1.        ]]\n",
      "[[ 1.         -0.47035821]\n",
      " [-0.47035821  1.        ]]\n"
     ]
    }
   ],
   "source": [
    "a = np.array([\n",
    "    [1, 25, 7, 13, 9],\n",
    "    [5, 8, 27, 4, 10],\n",
    "    [2, 5, 6, 14, 7],\n",
    "    [4, 5, 23, 12, 9],\n",
    "    [9, 2, 16, 3, 11]])\n",
    "\n",
    "def coefCorr(a):\n",
    "    i = 0\n",
    "    for i in range(len(a)):\n",
    "        columna = a[:,i]\n",
    "        fila = a[i,:]\n",
    "       # print(columna, \" \", fila)\n",
    "        print(np.corrcoef (columna, fila))\n",
    "        \n",
    "coefCorr(a)"
   ]
  },
  {
   "cell_type": "code",
   "execution_count": null,
   "metadata": {},
   "outputs": [],
   "source": []
  }
 ],
 "metadata": {
  "kernelspec": {
   "display_name": "Python 3",
   "language": "python",
   "name": "python3"
  },
  "language_info": {
   "codemirror_mode": {
    "name": "ipython",
    "version": 3
   },
   "file_extension": ".py",
   "mimetype": "text/x-python",
   "name": "python",
   "nbconvert_exporter": "python",
   "pygments_lexer": "ipython3",
   "version": "3.7.6"
  },
  "toc": {
   "base_numbering": 1,
   "nav_menu": {},
   "number_sections": true,
   "sideBar": true,
   "skip_h1_title": false,
   "title_cell": "Table of Contents",
   "title_sidebar": "Contents",
   "toc_cell": false,
   "toc_position": {},
   "toc_section_display": true,
   "toc_window_display": false
  }
 },
 "nbformat": 4,
 "nbformat_minor": 4
}
