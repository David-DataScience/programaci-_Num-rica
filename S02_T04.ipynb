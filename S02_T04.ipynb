{
 "cells": [
  {
   "cell_type": "markdown",
   "metadata": {},
   "source": [
    "# S02 T04: Pràctica amb programació numèrica"
   ]
  },
  {
   "cell_type": "markdown",
   "metadata": {},
   "source": [
    "### Exercici 1\n",
    "Crea una funció que donat un Array d’una dimensió, et faci un resum estadístic bàsic de les dades. Si detecta que l’array té més d’una dimensió, ha de mostrar un missatge d’error."
   ]
  },
  {
   "cell_type": "code",
   "execution_count": 2,
   "metadata": {
    "collapsed": false
   },
   "outputs": [
    {
     "name": "stdout",
     "output_type": "stream",
     "text": [
      "Escriu un array de números: 2 4 6 8 12 16 4 36\n",
      "Mitjana 7.0\n",
      "Mitja aritmètica 11.0\n",
      "Moda 4\n",
      "Desviació estandar 10.3923048454\n"
     ]
    }
   ],
   "source": [
    "import numpy as np\n",
    "import statistics as stat\n",
    "def resumArray(a):\n",
    "    print(\"Mitjana\",np.median(a) )\n",
    "    print(\"Mitja aritmètica\",np.mean(a))\n",
    "    print(\"Moda\",stat.mode(a) )\n",
    "    print(\"Desviació estandar\",np.std(a))\n",
    "\n",
    "x = input(\"Escriu un array de números: \")\n",
    "b = x.split()\n",
    "res = [int(i) for i in b]\n",
    "c = np.array(res)\n",
    "resumArray(c)\n"
   ]
  },
  {
   "cell_type": "markdown",
   "metadata": {},
   "source": [
    "### Exercici 2\n",
    "Crea una funció que et generi un quadrat NxN de nombres aleatoris entre el 0 i el 100."
   ]
  },
  {
   "cell_type": "code",
   "execution_count": 17,
   "metadata": {
    "collapsed": false
   },
   "outputs": [
    {
     "name": "stdout",
     "output_type": "stream",
     "text": [
      "Escriu el tamany de la matriu: 8\n",
      "[[98 60 66 92 17 10 42 88]\n",
      " [29 23 59 61 28 86 91 81]\n",
      " [46 99 44 60 14 95 34 23]\n",
      " [ 4 87 32 32 81 71 51 13]\n",
      " [96 70 33  9 11 50 46 41]\n",
      " [ 6 35 96 20 96 86 80  1]\n",
      " [89 27 74 39 86  0 12 89]\n",
      " [ 4 52 76 13  1 45 61 72]]\n"
     ]
    }
   ],
   "source": [
    "def randomMatrix(x):\n",
    "    a = np.random.randint(100, size=(x,x))\n",
    "    print(a)\n",
    "\n",
    "x = input(\"Escriu el tamany de la matriu: \")\n",
    "b = int(x)\n",
    "randomMatrix(b)"
   ]
  },
  {
   "cell_type": "markdown",
   "metadata": {},
   "source": [
    "### Exercici 3\n",
    "Crea una funció que donada una taula de dues dimensions, et calculi els totals per fila i els totals per columna."
   ]
  },
  {
   "cell_type": "code",
   "execution_count": 16,
   "metadata": {
    "collapsed": false
   },
   "outputs": [
    {
     "name": "stdout",
     "output_type": "stream",
     "text": [
      "suma fila  1 :  55\n",
      "suma columna  1 :  21\n",
      "suma fila  2 :  54\n",
      "suma columna  2 :  45\n",
      "suma fila  3 :  34\n",
      "suma columna  3 :  79\n",
      "suma fila  4 :  53\n",
      "suma columna  4 :  46\n",
      "suma fila  5 :  41\n",
      "suma columna  5 :  46\n"
     ]
    }
   ],
   "source": [
    "a = np.array([\n",
    "    [1, 25, 7, 13, 9],\n",
    "    [5, 8, 27, 4, 10],\n",
    "    [2, 5, 6, 14, 7],\n",
    "    [4, 5, 23, 12, 9],\n",
    "    [9, 2, 16, 3, 11]])\n",
    "\n",
    "def calcRowColumn(a):\n",
    "    i = 0\n",
    "    for i in range(len(a)):\n",
    "        s = 0\n",
    "        r = 0\n",
    "        for j in range(len(a[i])):\n",
    "                s += a[i][j]\n",
    "                r += a[j][i]\n",
    "        print(\"suma fila \",i+1,\": \", s)\n",
    "        print(\"suma columna \",i+1,\": \", r)\n",
    "        \n",
    "calcRowColumn(a)"
   ]
  },
  {
   "cell_type": "markdown",
   "metadata": {},
   "source": [
    "### Exercici 4\n",
    "Implementa manualment una funció que calculi el coeficient de correlació. Informa’t-en sobre els seus usos i interpretació."
   ]
  },
  {
   "cell_type": "code",
   "execution_count": 59,
   "metadata": {
    "collapsed": false
   },
   "outputs": [
    {
     "name": "stdout",
     "output_type": "stream",
     "text": [
      "[[1.         0.37692803]\n",
      " [0.37692803 1.        ]]\n",
      "[[ 1.         -0.35430044]\n",
      " [-0.35430044  1.        ]]\n",
      "[[1.         0.49199468]\n",
      " [0.49199468 1.        ]]\n",
      "[[1.         0.48151166]\n",
      " [0.48151166 1.        ]]\n",
      "[[ 1.         -0.47035821]\n",
      " [-0.47035821  1.        ]]\n"
     ]
    }
   ],
   "source": [
    "a = np.array([\n",
    "    [1, 25, 7, 13, 9],\n",
    "    [5, 8, 27, 4, 10],\n",
    "    [2, 5, 6, 14, 7],\n",
    "    [4, 5, 23, 12, 9],\n",
    "    [9, 2, 16, 3, 11]])\n",
    "\n",
    "def coefCorr(a):\n",
    "    i = 0\n",
    "    for i in range(len(a)):\n",
    "        columna = a[:,i]\n",
    "        fila = a[i,:]\n",
    "       # print(columna, \" \", fila)\n",
    "        print(np.corrcoef (columna, fila))\n",
    "        \n",
    "coefCorr(a)"
   ]
  }
 ],
 "metadata": {
  "anaconda-cloud": {},
  "kernelspec": {
   "display_name": "Python [Root]",
   "language": "python",
   "name": "Python [Root]"
  },
  "language_info": {
   "codemirror_mode": {
    "name": "ipython",
    "version": 3
   },
   "file_extension": ".py",
   "mimetype": "text/x-python",
   "name": "python",
   "nbconvert_exporter": "python",
   "pygments_lexer": "ipython3",
   "version": "3.5.2"
  },
  "toc": {
   "base_numbering": 1,
   "nav_menu": {},
   "number_sections": true,
   "sideBar": true,
   "skip_h1_title": false,
   "title_cell": "Table of Contents",
   "title_sidebar": "Contents",
   "toc_cell": false,
   "toc_position": {},
   "toc_section_display": true,
   "toc_window_display": false
  }
 },
 "nbformat": 4,
 "nbformat_minor": 4
}
